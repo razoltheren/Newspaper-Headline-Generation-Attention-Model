{
 "cells": [
  {
   "cell_type": "code",
   "execution_count": 1,
   "metadata": {},
   "outputs": [],
   "source": [
    "import json\n",
    "import requests\n",
    "import unicodedata\n",
    "\n",
    "from bs4 import BeautifulSoup"
   ]
  },
  {
   "cell_type": "code",
   "execution_count": 2,
   "metadata": {},
   "outputs": [],
   "source": [
    "def parse_data(file):\n",
    "    for l in open(file,'r'):\n",
    "        yield json.loads(l)"
   ]
  },
  {
   "cell_type": "code",
   "execution_count": 4,
   "metadata": {},
   "outputs": [],
   "source": [
    "data = list(parse_data('data/Sarcasm_Headlines_Dataset_v2.json'))\n",
    "huffington_articles = [d for d in data if 'huffingtonpost.com' in d['article_link']]"
   ]
  },
  {
   "cell_type": "code",
   "execution_count": 5,
   "metadata": {},
   "outputs": [],
   "source": [
    "headers = {'User-Agent': 'Mozilla/5.0 (Macintosh; Intel Mac OS X 10_11_5) AppleWebKit/537.36 (KHTML, like Gecko) Chrome/50.0.2661.102 Safari/537.36'}"
   ]
  },
  {
   "cell_type": "code",
   "execution_count": 6,
   "metadata": {},
   "outputs": [],
   "source": [
    "to_remove = []"
   ]
  },
  {
   "cell_type": "code",
   "execution_count": null,
   "metadata": {
    "scrolled": true
   },
   "outputs": [
    {
     "name": "stdout",
     "output_type": "stream",
     "text": [
      "0 out of 14985 articles\n",
      "1 out of 14985 articles\n",
      "2 out of 14985 articles\n",
      "3 out of 14985 articles\n",
      "4 failed\n",
      "5 out of 14985 articles\n",
      "6 out of 14985 articles\n",
      "7 out of 14985 articles\n",
      "8 out of 14985 articles\n",
      "9 out of 14985 articles\n",
      "10 out of 14985 articles\n",
      "11 out of 14985 articles\n"
     ]
    }
   ],
   "source": [
    "for i, article in enumerate(huffington_articles):\n",
    "    try:\n",
    "        text = \"\"\n",
    "        url = article['article_link']\n",
    "        req = requests.get(url, headers=headers)\n",
    "        page = req.content.decode('utf-8')\n",
    "        soup = BeautifulSoup(page, 'html.parser')\n",
    "        raw_texts = soup.find_all('p')\n",
    "        article['article_text'] = ' '.join([text + unicodedata.normalize(\"NFKD\", partition.get_text()) for partition in raw_texts])\n",
    "        print(\"{} out of {} articles\".format(i, len(huffington_articles)))\n",
    "    except:\n",
    "        print(\"{} failed\".format(i))\n",
    "        to_remove.append(i)"
   ]
  },
  {
   "cell_type": "code",
   "execution_count": 13,
   "metadata": {},
   "outputs": [],
   "source": [
    "with open('data.json', 'w') as f:\n",
    "    json.dump(huffington_articles, f)"
   ]
  },
  {
   "cell_type": "code",
   "execution_count": 15,
   "metadata": {},
   "outputs": [
    {
     "data": {
      "text/html": [
       "<div>\n",
       "<style scoped>\n",
       "    .dataframe tbody tr th:only-of-type {\n",
       "        vertical-align: middle;\n",
       "    }\n",
       "\n",
       "    .dataframe tbody tr th {\n",
       "        vertical-align: top;\n",
       "    }\n",
       "\n",
       "    .dataframe thead th {\n",
       "        text-align: right;\n",
       "    }\n",
       "</style>\n",
       "<table border=\"1\" class=\"dataframe\">\n",
       "  <thead>\n",
       "    <tr style=\"text-align: right;\">\n",
       "      <th></th>\n",
       "      <th>is_sarcastic</th>\n",
       "      <th>headline</th>\n",
       "      <th>article_link</th>\n",
       "      <th>article_text</th>\n",
       "    </tr>\n",
       "  </thead>\n",
       "  <tbody>\n",
       "    <tr>\n",
       "      <td>0</td>\n",
       "      <td>0</td>\n",
       "      <td>dem rep. totally nails why congress is falling...</td>\n",
       "      <td>https://www.huffingtonpost.com/entry/donna-edw...</td>\n",
       "      <td>\"We are neither post-racial nor post-gender,\" ...</td>\n",
       "    </tr>\n",
       "    <tr>\n",
       "      <td>1</td>\n",
       "      <td>0</td>\n",
       "      <td>eat your veggies: 9 deliciously different recipes</td>\n",
       "      <td>https://www.huffingtonpost.com/entry/eat-your-...</td>\n",
       "      <td>Vegetables don't have to be boring or relegate...</td>\n",
       "    </tr>\n",
       "    <tr>\n",
       "      <td>2</td>\n",
       "      <td>0</td>\n",
       "      <td>my white inheritance</td>\n",
       "      <td>https://www.huffingtonpost.com/entry/my-white-...</td>\n",
       "      <td>To what extent do you own your inheritance?  L...</td>\n",
       "    </tr>\n",
       "    <tr>\n",
       "      <td>3</td>\n",
       "      <td>0</td>\n",
       "      <td>5 ways to file your taxes with less stress</td>\n",
       "      <td>https://www.huffingtonpost.com/entry/5-ways-to...</td>\n",
       "      <td>Even with years of experience, the process of ...</td>\n",
       "    </tr>\n",
       "    <tr>\n",
       "      <td>5</td>\n",
       "      <td>0</td>\n",
       "      <td>this lesbian is considered a father in indiana...</td>\n",
       "      <td>https://www.huffingtonpost.com/entry/this-lesb...</td>\n",
       "      <td>It is often said that foster children are amaz...</td>\n",
       "    </tr>\n",
       "    <tr>\n",
       "      <td>...</td>\n",
       "      <td>...</td>\n",
       "      <td>...</td>\n",
       "      <td>...</td>\n",
       "      <td>...</td>\n",
       "    </tr>\n",
       "    <tr>\n",
       "      <td>14980</td>\n",
       "      <td>0</td>\n",
       "      <td>what our grieving family needs from loved ones...</td>\n",
       "      <td>https://www.huffingtonpost.com/entry/what-our-...</td>\n",
       "      <td>This story originally appeared on The Mighty D...</td>\n",
       "    </tr>\n",
       "    <tr>\n",
       "      <td>14981</td>\n",
       "      <td>0</td>\n",
       "      <td>stephen colbert attempts to list everything tr...</td>\n",
       "      <td>https://www.huffingtonpost.com/entry/stephen-c...</td>\n",
       "      <td>TONIGHT: It took the President two days to den...</td>\n",
       "    </tr>\n",
       "    <tr>\n",
       "      <td>14982</td>\n",
       "      <td>0</td>\n",
       "      <td>bakery owner vows to stop making wedding cakes...</td>\n",
       "      <td>https://www.huffingtonpost.com/entry/jack-phil...</td>\n",
       "      <td>The owner of a Colorado bakery has vowed to s...</td>\n",
       "    </tr>\n",
       "    <tr>\n",
       "      <td>14983</td>\n",
       "      <td>0</td>\n",
       "      <td>how san antonio's dominant defense is fueling ...</td>\n",
       "      <td>https://www.huffingtonpost.com/entry/san-anton...</td>\n",
       "      <td>While the NBA has gone haywire with Stephen Cu...</td>\n",
       "    </tr>\n",
       "    <tr>\n",
       "      <td>14984</td>\n",
       "      <td>0</td>\n",
       "      <td>the most beautiful acceptance speech this week...</td>\n",
       "      <td>https://www.huffingtonpost.com/entry/andrew-ah...</td>\n",
       "      <td>Andrew Ahn set a Hollywood precedent last year...</td>\n",
       "    </tr>\n",
       "  </tbody>\n",
       "</table>\n",
       "<p>14402 rows × 4 columns</p>\n",
       "</div>"
      ],
      "text/plain": [
       "       is_sarcastic                                           headline  \\\n",
       "0                 0  dem rep. totally nails why congress is falling...   \n",
       "1                 0  eat your veggies: 9 deliciously different recipes   \n",
       "2                 0                               my white inheritance   \n",
       "3                 0         5 ways to file your taxes with less stress   \n",
       "5                 0  this lesbian is considered a father in indiana...   \n",
       "...             ...                                                ...   \n",
       "14980             0  what our grieving family needs from loved ones...   \n",
       "14981             0  stephen colbert attempts to list everything tr...   \n",
       "14982             0  bakery owner vows to stop making wedding cakes...   \n",
       "14983             0  how san antonio's dominant defense is fueling ...   \n",
       "14984             0  the most beautiful acceptance speech this week...   \n",
       "\n",
       "                                            article_link  \\\n",
       "0      https://www.huffingtonpost.com/entry/donna-edw...   \n",
       "1      https://www.huffingtonpost.com/entry/eat-your-...   \n",
       "2      https://www.huffingtonpost.com/entry/my-white-...   \n",
       "3      https://www.huffingtonpost.com/entry/5-ways-to...   \n",
       "5      https://www.huffingtonpost.com/entry/this-lesb...   \n",
       "...                                                  ...   \n",
       "14980  https://www.huffingtonpost.com/entry/what-our-...   \n",
       "14981  https://www.huffingtonpost.com/entry/stephen-c...   \n",
       "14982  https://www.huffingtonpost.com/entry/jack-phil...   \n",
       "14983  https://www.huffingtonpost.com/entry/san-anton...   \n",
       "14984  https://www.huffingtonpost.com/entry/andrew-ah...   \n",
       "\n",
       "                                            article_text  \n",
       "0      \"We are neither post-racial nor post-gender,\" ...  \n",
       "1      Vegetables don't have to be boring or relegate...  \n",
       "2      To what extent do you own your inheritance?  L...  \n",
       "3      Even with years of experience, the process of ...  \n",
       "5      It is often said that foster children are amaz...  \n",
       "...                                                  ...  \n",
       "14980  This story originally appeared on The Mighty D...  \n",
       "14981  TONIGHT: It took the President two days to den...  \n",
       "14982   The owner of a Colorado bakery has vowed to s...  \n",
       "14983  While the NBA has gone haywire with Stephen Cu...  \n",
       "14984  Andrew Ahn set a Hollywood precedent last year...  \n",
       "\n",
       "[14402 rows x 4 columns]"
      ]
     },
     "execution_count": 15,
     "metadata": {},
     "output_type": "execute_result"
    }
   ],
   "source": [
    "import pandas as pd\n",
    "\n",
    "pd.read_json(\"data.json\").dropna()"
   ]
  },
  {
   "cell_type": "code",
   "execution_count": null,
   "metadata": {},
   "outputs": [],
   "source": []
  }
 ],
 "metadata": {
  "kernelspec": {
   "display_name": "Python 3",
   "language": "python",
   "name": "python3"
  },
  "language_info": {
   "codemirror_mode": {
    "name": "ipython",
    "version": 3
   },
   "file_extension": ".py",
   "mimetype": "text/x-python",
   "name": "python",
   "nbconvert_exporter": "python",
   "pygments_lexer": "ipython3",
   "version": "3.7.3"
  }
 },
 "nbformat": 4,
 "nbformat_minor": 2
}
